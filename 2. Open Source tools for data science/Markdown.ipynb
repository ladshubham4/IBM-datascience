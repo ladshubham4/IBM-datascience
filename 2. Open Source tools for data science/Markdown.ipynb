{
 "cells": [
  {
   "cell_type": "markdown",
   "metadata": {},
   "source": [
    "#  My Jupyter Notebook on IBM Data Science Experience"
   ]
  },
  {
   "cell_type": "markdown",
   "metadata": {},
   "source": [
    "name: **SHUBHAM LAD**.\n",
    "\n",
    "occupation: student."
   ]
  },
  {
   "cell_type": "markdown",
   "metadata": {},
   "source": [
    "*I am interested in data science becauseTechnology is disrupting the way we work, the way we live, and society as a whole. The field of data analytics helps us to achieve better results and empower everything we're doing; We're currently collecting so much data but we're not making good use of it*"
   ]
  },
  {
   "cell_type": "markdown",
   "metadata": {},
   "source": [
    "### in cell 3,two numbers are added"
   ]
  },
  {
   "cell_type": "code",
   "execution_count": 1,
   "metadata": {},
   "outputs": [
    {
     "data": {
      "text/plain": [
       "2"
      ]
     },
     "execution_count": 1,
     "metadata": {},
     "output_type": "execute_result"
    }
   ],
   "source": [
    "1+1"
   ]
  },
  {
   "cell_type": "markdown",
   "metadata": {},
   "source": [
    "example1(code highlighter):\n",
    "\n",
    "```python\n",
    "this is my code highlighter\n",
    "int a=\"hello world\"\n",
    "\n",
    "```\n",
    "\n",
    "example2(url):\n",
    "\n",
    "Best search engine [GOOGLE](http://www.google.com \"it can find anything\")\n",
    "\n",
    "example3(bulleted list):\n",
    "\n",
    "* Apple\n",
    "* Banana\n",
    "* Orange\n",
    "\n",
    "example4(numbered list):\n",
    "1. Movies\n",
    "2. Travelling\n",
    "3. Sports \n",
    "    1. Football\n",
    "    2. Cricket\n",
    "    3. Rugby\n",
    "4. Basketball\n",
    "\n",
    "example5(image):\n",
    "\n",
    "![Greatest Batsman Sachin Tendulkar!](https://image.cnbcfm.com/api/v1/image/103135046-GettyImages-110022758.jpg?v=1446585058/120/100)\n",
    "\n",
    "\n",
    "\n",
    "\n",
    "\n",
    "\n"
   ]
  },
  {
   "cell_type": "code",
   "execution_count": null,
   "metadata": {},
   "outputs": [],
   "source": []
  }
 ],
 "metadata": {
  "kernelspec": {
   "display_name": "Python 3",
   "language": "python",
   "name": "python3"
  },
  "language_info": {
   "codemirror_mode": {
    "name": "ipython",
    "version": 3
   },
   "file_extension": ".py",
   "mimetype": "text/x-python",
   "name": "python",
   "nbconvert_exporter": "python",
   "pygments_lexer": "ipython3",
   "version": "3.7.4"
  }
 },
 "nbformat": 4,
 "nbformat_minor": 2
}
